{
 "cells": [
  {
   "cell_type": "code",
   "execution_count": 5,
   "id": "49054905",
   "metadata": {},
   "outputs": [
    {
     "name": "stdout",
     "output_type": "stream",
     "text": [
      "Conversão de Moeda:\n",
      "Valor em Reais: R$ 100.00\n",
      "Convertido em Dólares: US$ 19.23\n",
      "Convertido em Euros: € 16.26\n"
     ]
    }
   ],
   "source": [
    "# 1- Conversor de Moeda\n",
    "# Crie um programa que converte um valor em reais para dólares e euros.\n",
    "# Use os seguintes dados:\n",
    "# * Valor em reais: R$ 100.00\n",
    "# * Taxa do dólar: R$ 5.20\n",
    "# * Taxa do euro: R$ 6.15\n",
    "# O programa deve calcular e exibir os valores convertidos, arredondando para duas casas decimais.\n",
    "\n",
    "# Definindo o valor em reais e as taxas de câmbio\n",
    "\n",
    "valor_reais = 100.00\n",
    "taxa_dolar = 5.20\n",
    "taxa_euro = 6.15\n",
    "\n",
    "# Realizando as conversões\n",
    "valor_dolar = valor_reais / taxa_dolar\n",
    "valor_euro = valor_reais / taxa_euro\n",
    "\n",
    "# Exibindo os resultados\n",
    "print(\"Conversão de Moeda:\")\n",
    "print(f\"Valor em Reais: R$ {valor_reais:.2f}\")\n",
    "print(f\"Convertido em Dólares: US$ {valor_dolar:.2f}\")\n",
    "print(f\"Convertido em Euros: € {valor_euro:.2f}\")\n"
   ]
  },
  {
   "cell_type": "code",
   "execution_count": 2,
   "id": "dd6dd5dd",
   "metadata": {},
   "outputs": [
    {
     "name": "stdout",
     "output_type": "stream",
     "text": [
      "Calculadora de Desconto:\n",
      "Produto: Camiseta\n",
      "Preço original: R$ 50.00\n",
      "Desconto: 20% (R$ 10.00)\n",
      "Preço final: R$ 40.00\n"
     ]
    }
   ],
   "source": [
    "# 2- Calculadora de Desconto\n",
    "# Desenvolva um programa que calcula o desconto em uma loja.\n",
    "# Use as seguintes informações:\n",
    "# * Nome do produto: \"Camiseta\"\n",
    "# * Preço original: R$ 50.00\n",
    "# * Porcentagem de desconto: 20%\n",
    "# O programa deve calcular o valor do desconto e o preço final, exibindo todos os detalhes.\n",
    "\n",
    "# Informações do produto e desconto\n",
    "\n",
    "nome_produto = \"Camiseta\"\n",
    "preco_original = 50.00\n",
    "percentual_desconto = 20\n",
    "\n",
    "# Cálculo do valor do desconto\n",
    "valor_desconto = preco_original * (percentual_desconto / 100)\n",
    "\n",
    "# Cálculo do preço final com desconto\n",
    "preco_final = preco_original - valor_desconto\n",
    "\n",
    "# Exibição dos resultados\n",
    "print(\"Calculadora de Desconto:\")\n",
    "print(f\"Produto: {nome_produto}\")\n",
    "print(f\"Preço original: R$ {preco_original:.2f}\")\n",
    "print(f\"Desconto: {percentual_desconto}% (R$ {valor_desconto:.2f})\")\n",
    "print(f\"Preço final: R$ {preco_final:.2f}\")\n"
   ]
  },
  {
   "cell_type": "code",
   "execution_count": 3,
   "id": "61d3ae03",
   "metadata": {},
   "outputs": [
    {
     "name": "stdout",
     "output_type": "stream",
     "text": [
      "Média Escolar:\n",
      "Nota 1: 7.5\n",
      "Nota 2: 8.0\n",
      "Nota 3: 6.5\n",
      "Média final: 7.33\n"
     ]
    }
   ],
   "source": [
    "# 3- Calculadora de Média Escolar\n",
    "# Crie um programa que calcula a média escolar de um aluno.\n",
    "# Use as seguintes notas:\n",
    "# * Nota 1: 7.5\n",
    "# * Nota 2: 8.0\n",
    "# * Nota 3: 6.5\n",
    "# O programa deve calcular a média e exibir todas as notas e o resultado final, arredondando para duas casas decimais.\n",
    "\n",
    "# Notas do aluno\n",
    "\n",
    "nota1 = 7.5\n",
    "nota2 = 8.0\n",
    "nota3 = 6.5\n",
    "\n",
    "# Cálculo da média aritmética\n",
    "media = (nota1 + nota2 + nota3) / 3\n",
    "\n",
    "# Exibição das notas e média final\n",
    "print(\"Média Escolar:\")\n",
    "print(f\"Nota 1: {nota1}\")\n",
    "print(f\"Nota 2: {nota2}\")\n",
    "print(f\"Nota 3: {nota3}\")\n",
    "print(f\"Média final: {media:.2f}\")\n"
   ]
  },
  {
   "cell_type": "code",
   "execution_count": 4,
   "id": "02d08c75",
   "metadata": {},
   "outputs": [
    {
     "name": "stdout",
     "output_type": "stream",
     "text": [
      "Consumo de Combustível:\n",
      "Distância percorrida: 300 km\n",
      "Combustível gasto: 25 litros\n",
      "Consumo médio: 12.00 km/l\n"
     ]
    }
   ],
   "source": [
    "# 4- Calculadora de Consumo de Combustível\n",
    "# Desenvolva um programa que calcula o consumo médio de combustível de um veículo.\n",
    "# Use os seguintes dados:\n",
    "# * Distância percorrida: 300 km\n",
    "# * Combustível gasto: 25 litros\n",
    "# O programa deve calcular o consumo médio (km/l) e exibir todos os dados da viagem, incluindo o resultado final arredondado para duas casas decimais.\n",
    "\n",
    "# Dados da viagem\n",
    "\n",
    "distancia_km = 300\n",
    "combustivel_litros = 25\n",
    "\n",
    "# Cálculo do consumo médio (km por litro)\n",
    "consumo_medio = distancia_km / combustivel_litros\n",
    "\n",
    "# Exibição dos dados e resultado\n",
    "print(\"Consumo de Combustível:\")\n",
    "print(f\"Distância percorrida: {distancia_km} km\")\n",
    "print(f\"Combustível gasto: {combustivel_litros} litros\")\n",
    "print(f\"Consumo médio: {consumo_medio:.2f} km/l\")\n"
   ]
  }
 ],
 "metadata": {
  "kernelspec": {
   "display_name": "Python 3",
   "language": "python",
   "name": "python3"
  },
  "language_info": {
   "codemirror_mode": {
    "name": "ipython",
    "version": 3
   },
   "file_extension": ".py",
   "mimetype": "text/x-python",
   "name": "python",
   "nbconvert_exporter": "python",
   "pygments_lexer": "ipython3",
   "version": "3.13.3"
  }
 },
 "nbformat": 4,
 "nbformat_minor": 5
}
