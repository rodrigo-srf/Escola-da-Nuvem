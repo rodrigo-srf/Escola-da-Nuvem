{
 "cells": [
  {
   "cell_type": "code",
   "execution_count": null,
   "id": "ced03fa3",
   "metadata": {},
   "outputs": [],
   "source": [
    "# Calculadora de IMC (Índice de Massa Corporal)\n",
    "\n",
    "# Entrada de dados\n",
    "altura = float(input(\"Digite a sua altura em metros: \"))\n",
    "peso = float(input(\"Digite seu peso em kg: \"))\n",
    "\n",
    "# Cálculo do IMC\n",
    "imc = peso / (altura ** 2)\n",
    "\n",
    "# Exibição do resultado\n",
    "print(f\"\\nSeu IMC é {imc:.2f}\")\n",
    "\n",
    "# Classificação\n",
    "if imc < 18.5:\n",
    "    print(\"Classificação: Abaixo do peso\")\n",
    "elif imc < 25:\n",
    "    print(\"Classificação: Peso normal\")\n",
    "elif imc < 30:\n",
    "    print(\"Classificação: Sobrepeso\")\n",
    "else:\n",
    "    print(\"Classificação: Obesidade\")\n"
   ]
  },
  {
   "cell_type": "code",
   "execution_count": null,
   "id": "d5a28522",
   "metadata": {},
   "outputs": [],
   "source": [
    "#Conversor de Temperatura\n",
    "\n",
    "celsius =  float(input(\"Digite a temperatura em Celsius: \"))\n",
    "fahrenheit = (celsius * 9/5) +32\n",
    "print(f\"{celsius}ºC equivale a {fahrenheit}ºF\")"
   ]
  },
  {
   "cell_type": "code",
   "execution_count": null,
   "id": "ccf6755e",
   "metadata": {},
   "outputs": [],
   "source": []
  },
  {
   "cell_type": "code",
   "execution_count": null,
   "id": "d56c1e10",
   "metadata": {},
   "outputs": [],
   "source": []
  },
  {
   "cell_type": "code",
   "execution_count": null,
   "id": "58e33575",
   "metadata": {},
   "outputs": [],
   "source": []
  }
 ],
 "metadata": {
  "kernelspec": {
   "display_name": "Python 3",
   "language": "python",
   "name": "python3"
  },
  "language_info": {
   "codemirror_mode": {
    "name": "ipython",
    "version": 3
   },
   "file_extension": ".py",
   "mimetype": "text/x-python",
   "name": "python",
   "nbconvert_exporter": "python",
   "pygments_lexer": "ipython3",
   "version": "3.13.3"
  }
 },
 "nbformat": 4,
 "nbformat_minor": 5
}
