{
 "cells": [
  {
   "cell_type": "code",
   "execution_count": null,
   "id": "ccf6755e",
   "metadata": {},
   "outputs": [
    {
     "name": "stdout",
     "output_type": "stream",
     "text": [
      "IMC: 17.96\n",
      "Abaixo do peso\n"
     ]
    }
   ],
   "source": [
    "# Questão 09 Calculadora de IMC\n",
    "#PESO DIVIDIDO PELA ALTURA **2\n",
    "\n",
    "a = float(input(\"Altura (m): \"))\n",
    "p = float(input(\"Peso (kg): \"))\n",
    "imc = p / (a ** 2)\n",
    "print(f\"IMC: {imc:.2f}\")\n",
    "\n",
    "if imc < 18.5:\n",
    "    print(\"Abaixo do peso\")\n",
    "elif imc < 25:\n",
    "    print(\"Peso normal\")\n",
    "elif imc < 30:\n",
    "    print(\"Sobrepeso\")\n",
    "else:\n",
    "    print(\"Acima do peso\")\n"
   ]
  },
  {
   "cell_type": "code",
   "execution_count": null,
   "id": "d56c1e10",
   "metadata": {},
   "outputs": [
    {
     "name": "stdout",
     "output_type": "stream",
     "text": [
      "33.0°C = 91.4°F\n"
     ]
    }
   ],
   "source": [
    "# Questão 10 Conversor de Temperatura\n",
    "\n",
    "c = float(input(\"Temp. em °C: \"))\n",
    "f = (c * 9/5) + 32\n",
    "print(f\"{c}°C = {f}°F\")\n"
   ]
  },
  {
   "cell_type": "code",
   "execution_count": null,
   "id": "58e33575",
   "metadata": {},
   "outputs": [
    {
     "name": "stdout",
     "output_type": "stream",
     "text": [
      "Adulto\n"
     ]
    }
   ],
   "source": [
    "# Questão 11 Classificação por idade\n",
    "\n",
    "i = int(input(\"Idade: \"))\n",
    "if i >= 65:\n",
    "    print(\"Idoso\")\n",
    "elif i >= 18:\n",
    "    print(\"Adulto\")\n",
    "elif i >= 12:\n",
    "    print(\"Adolescente\")\n",
    "elif i >= 3:\n",
    "    print(\"Criança\")\n",
    "else:\n",
    "    print(\"Bebê\")\n"
   ]
  },
  {
   "cell_type": "code",
   "execution_count": null,
   "id": "9aba602b",
   "metadata": {},
   "outputs": [
    {
     "name": "stdout",
     "output_type": "stream",
     "text": [
      "Não é par\n"
     ]
    }
   ],
   "source": [
    "# Questão 12 Número par ou não\n",
    "\n",
    "n = int(input(\"Número: \"))\n",
    "if n % 2 == 0:\n",
    "    print(\"É par\")\n",
    "else:\n",
    "    print(\"Não é par\")\n"
   ]
  },
  {
   "cell_type": "code",
   "execution_count": null,
   "id": "dca6a57f",
   "metadata": {},
   "outputs": [
    {
     "name": "stdout",
     "output_type": "stream",
     "text": [
      "Pode votar\n"
     ]
    }
   ],
   "source": [
    "# Questão 13 Verificar se pode votar\n",
    "\n",
    "i = int(input(\"Idade: \"))\n",
    "if i >= 16:\n",
    "    print(\"Pode votar\")\n",
    "else:\n",
    "    print(\"Não pode votar\")\n"
   ]
  },
  {
   "cell_type": "code",
   "execution_count": 22,
   "id": "ca7e957f",
   "metadata": {},
   "outputs": [
    {
     "name": "stdout",
     "output_type": "stream",
     "text": [
      "Fim de semana!\n"
     ]
    }
   ],
   "source": [
    "#Dia útil ou fim de semana (aceita nome ou número)\n",
    "\n",
    "d = input(\"Digite o dia da semana (nome ou número 1-7): \").lower()\n",
    "\n",
    "if d in [\"6\", \"sábado\"]:\n",
    "    print(\"Fim de semana!\")\n",
    "elif d in [\"7\", \"domingo\"]:\n",
    "    print(\"Fim de semana!\")\n",
    "elif d in [\"1\", \"segunda\", \"segunda-feira\",\n",
    "           \"2\", \"terça\", \"terça-feira\",\n",
    "           \"3\", \"quarta\", \"quarta-feira\",\n",
    "           \"4\", \"quinta\", \"quinta-feira\",\n",
    "           \"5\", \"sexta\", \"sexta-feira\"]:\n",
    "    print(\"Dia útil\")\n",
    "else:\n",
    "    print(\"Entrada inválida\")"
   ]
  },
  {
   "cell_type": "code",
   "execution_count": 18,
   "id": "ebb60199",
   "metadata": {},
   "outputs": [
    {
     "name": "stdout",
     "output_type": "stream",
     "text": [
      "Está entre 10 e 20\n"
     ]
    }
   ],
   "source": [
    "# Questão 15 Número entre 10 e 20\n",
    "\n",
    "n = float(input(\"Número: \"))\n",
    "if 10 < n < 20:\n",
    "    print(\"Está entre 10 e 20\")\n",
    "else:\n",
    "    print(\"Fora do intervalo\")\n"
   ]
  }
 ],
 "metadata": {
  "kernelspec": {
   "display_name": "Python 3",
   "language": "python",
   "name": "python3"
  },
  "language_info": {
   "codemirror_mode": {
    "name": "ipython",
    "version": 3
   },
   "file_extension": ".py",
   "mimetype": "text/x-python",
   "name": "python",
   "nbconvert_exporter": "python",
   "pygments_lexer": "ipython3",
   "version": "3.13.3"
  }
 },
 "nbformat": 4,
 "nbformat_minor": 5
}
