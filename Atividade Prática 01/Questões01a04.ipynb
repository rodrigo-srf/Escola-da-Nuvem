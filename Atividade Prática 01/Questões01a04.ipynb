{
 "cells": [
  {
   "cell_type": "code",
   "execution_count": null,
   "id": "a0bf4f8a",
   "metadata": {},
   "outputs": [
    {
     "name": "stdout",
     "output_type": "stream",
     "text": [
      "Olá, mundo!\n"
     ]
    }
   ],
   "source": [
    "#1- Programa de Saudação Crie um programa que imprima a mensagem \"Olá, mundo!\" na tela.\n",
    "\n",
    "print('Olá, mundo!')\n"
   ]
  },
  {
   "cell_type": "code",
   "execution_count": null,
   "id": "f4083048",
   "metadata": {},
   "outputs": [
    {
     "name": "stdout",
     "output_type": "stream",
     "text": [
      "Resultado da soma: 26\n"
     ]
    }
   ],
   "source": [
    "#2- Calculadora de Soma Desenvolva um programa que soma dois números. Use as variáveis numero1 = 12 e numero2 = 14. O programa deve calcular a soma e exibir o resultado.\n",
    "\n",
    "numero1 = 12\n",
    "numero2 = 14\n",
    "soma = numero1 + numero2\n",
    "print(f'Resultado da soma: {soma}')"
   ]
  },
  {
   "cell_type": "code",
   "execution_count": 12,
   "id": "1b0b1956",
   "metadata": {},
   "outputs": [
    {
     "name": "stdout",
     "output_type": "stream",
     "text": [
      "Dimensões da caixa:\n",
      "  Comprimento: 12 cm\n",
      "  Largura: 14 cm\n",
      "  Altura: 20 cm\n",
      "Volume total: 3360 cm³\n"
     ]
    }
   ],
   "source": [
    "#3- Calculadora de Volume Crie um programa que calcula o volume de uma caixa retangular. Use as seguintes dimensões:\n",
    "#Comprimento: 12 cm\n",
    "#Largura: 14 cm\n",
    "#Altura: 20 cm\n",
    "#programa deve calcular o volume e exibir o resultado em cm³.\n",
    "\n",
    "\n",
    "# Dimensões da caixa em cm\n",
    "comprimento = 12\n",
    "largura = 14\n",
    "altura = 20\n",
    "\n",
    "# Cálculo do volume\n",
    "volume = comprimento * largura * altura\n",
    "\n",
    "# Exibição do resultado\n",
    "print(\"Dimensões da caixa:\")\n",
    "print(f\"  Comprimento: {comprimento} cm\")\n",
    "print(f\"  Largura: {largura} cm\")\n",
    "print(f\"  Altura: {altura} cm\")\n",
    "print(f\"Volume total: {volume} cm³\")"
   ]
  },
  {
   "cell_type": "code",
   "execution_count": 13,
   "id": "d7400080",
   "metadata": {},
   "outputs": [
    {
     "name": "stdout",
     "output_type": "stream",
     "text": [
      "Cadeira Infantil\n",
      "Preço unitário: R$ 12.40\n",
      "Quantidade: 3 unidade(s)\n",
      "Valor total: R$ 37.20\n"
     ]
    }
   ],
   "source": [
    "#* Desenvolva um programa que calcula o preço total de uma compra. Use as seguintes informações:\n",
    "#Nome do produto: \"Cadeira Infantil\"\n",
    "#Preço unitário: R$ 12.40\n",
    "#Quantidade: 3\n",
    "#O programa deve calcular o preço total e exibir todas as informações, incluindo o resultado final.\n",
    "\n",
    "# Dados do produto\n",
    "nome_produto = \"Cadeira Infantil\"\n",
    "preco_unitario = 12.40\n",
    "quantidade = 3\n",
    "\n",
    "# Cálculo do preço total\n",
    "valor_total = preco_unitario * quantidade\n",
    "\n",
    "# Formatação dos valores em string para exibição\n",
    "preco_formatado = f\"R$ {preco_unitario:.2f}\"\n",
    "valor_total_formatado = f\"R$ {valor_total:.2f}\"\n",
    "\n",
    "# Exibição das informações\n",
    "print(nome_produto)\n",
    "print(f\"Preço unitário: {preco_formatado}\")\n",
    "print(f\"Quantidade: {quantidade} unidade(s)\")\n",
    "print(f\"Valor total: {valor_total_formatado}\")"
   ]
  }
 ],
 "metadata": {
  "kernelspec": {
   "display_name": "Python 3",
   "language": "python",
   "name": "python3"
  },
  "language_info": {
   "codemirror_mode": {
    "name": "ipython",
    "version": 3
   },
   "file_extension": ".py",
   "mimetype": "text/x-python",
   "name": "python",
   "nbconvert_exporter": "python",
   "pygments_lexer": "ipython3",
   "version": "3.13.3"
  }
 },
 "nbformat": 4,
 "nbformat_minor": 5
}
